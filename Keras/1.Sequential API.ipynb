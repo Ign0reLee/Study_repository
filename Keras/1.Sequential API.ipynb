{
 "cells": [
  {
   "cell_type": "markdown",
   "metadata": {},
   "source": [
    "# Sequential API\n",
    "---\n",
    "\n",
    "기초부분"
   ]
  },
  {
   "cell_type": "code",
   "execution_count": null,
   "metadata": {},
   "outputs": [],
   "source": [
    "import tensorflow as tf\n",
    "from tensorflow import keras\n",
    "from tensorflow.keras.layers import *"
   ]
  },
  {
   "cell_type": "code",
   "execution_count": null,
   "metadata": {},
   "outputs": [],
   "source": [
    "model = keras.Sequential([\n",
    "    Dense(2, activation=\"relu\", name=\"layer1\"),\n",
    "    Dense(3, activation=\"relu\", name=\"layer2\"),\n",
    "    Dense(4, name=\"layer3\")\n",
    "])\n",
    "\n",
    "x = tf.ones((3,3))\n",
    "y = model(x)"
   ]
  },
  {
   "cell_type": "markdown",
   "metadata": {},
   "source": [
    "## 다르게 쓰는 방법 1."
   ]
  },
  {
   "cell_type": "code",
   "execution_count": null,
   "metadata": {},
   "outputs": [],
   "source": [
    "layer1 = Dense(2, activation=\"relu\", name=\"layer1\")\n",
    "layer2 = Dense(3, activation=\"relu\", name=\"layer2\")\n",
    "layer3 = Dense(4, name=\"layer3\")\n",
    "\n",
    "x = tf.ones((3,3))\n",
    "y = layer3(layer2(layer1(x)))"
   ]
  },
  {
   "cell_type": "markdown",
   "metadata": {},
   "source": [
    "## 다르게 쓰는 방법 2."
   ]
  },
  {
   "cell_type": "code",
   "execution_count": null,
   "metadata": {},
   "outputs": [],
   "source": [
    "model = keras.Sequential()\n",
    "model.add(Dense(2, activation=\"relu\", name=\"layer1\"))\n",
    "model.add(Dense(3, activation=\"relu\", name=\"layer2\"))\n",
    "model.add(Dense(4, name=\"layer3\"))"
   ]
  },
  {
   "cell_type": "markdown",
   "metadata": {},
   "source": [
    "## Layer 접근"
   ]
  },
  {
   "cell_type": "code",
   "execution_count": null,
   "metadata": {},
   "outputs": [],
   "source": [
    "model.layers"
   ]
  },
  {
   "cell_type": "markdown",
   "metadata": {},
   "source": [
    "## Layer 제거"
   ]
  },
  {
   "cell_type": "code",
   "execution_count": null,
   "metadata": {},
   "outputs": [],
   "source": [
    "model.pop()\n",
    "\n",
    "model.layers"
   ]
  },
  {
   "cell_type": "markdown",
   "metadata": {},
   "source": [
    "# Input Shape 지정하기\n",
    "---\n",
    "\n",
    "기본적으로는 가중치가 없다.\n",
    "\n",
    "Input Shape에 따라서 달라지기 때문에, 처음 호출할때 가중치를 생성"
   ]
  },
  {
   "cell_type": "code",
   "execution_count": null,
   "metadata": {},
   "outputs": [],
   "source": [
    "layer = Dense(3)\n",
    "layer.weights"
   ]
  },
  {
   "cell_type": "code",
   "execution_count": null,
   "metadata": {},
   "outputs": [],
   "source": [
    "x = tf.ones((1,4))\n",
    "y = layer(x)\n",
    "layer.weights"
   ]
  },
  {
   "cell_type": "markdown",
   "metadata": {},
   "source": [
    "# Sequential 모델에서 Input Shape 지정하기\n",
    "---\n",
    "\n",
    "Input Shape가 없다면 Sequential Model역시 Build되지 않습니다.\n",
    "\n",
    "따라서 가중치가 없습니다.\n",
    "\n",
    "Input으로 Input Shape를 지정해주거나, 직접 모델에 값을 넣거나, Model.Build를 사용함으로써 해결가능합니다."
   ]
  },
  {
   "cell_type": "code",
   "execution_count": null,
   "metadata": {},
   "outputs": [],
   "source": [
    "model = keras.Sequential([\n",
    "    Dense(2, activation=\"relu\", name=\"layer1\"),\n",
    "    Dense(3, activation=\"relu\", name=\"layer2\"),\n",
    "    Dense(4, name=\"layer3\")\n",
    "])"
   ]
  },
  {
   "cell_type": "code",
   "execution_count": null,
   "metadata": {},
   "outputs": [],
   "source": [
    "model.summary()"
   ]
  },
  {
   "cell_type": "code",
   "execution_count": null,
   "metadata": {},
   "outputs": [],
   "source": [
    "x = tf.ones((3,3))\n",
    "y = model(x)"
   ]
  },
  {
   "cell_type": "code",
   "execution_count": null,
   "metadata": {
    "scrolled": true
   },
   "outputs": [],
   "source": [
    "model.summary()"
   ]
  },
  {
   "cell_type": "markdown",
   "metadata": {},
   "source": [
    "이 때, Input Layer가 아닙니다."
   ]
  },
  {
   "cell_type": "code",
   "execution_count": null,
   "metadata": {},
   "outputs": [],
   "source": [
    "model = keras.Sequential([\n",
    "    Input(shape=(4,)),\n",
    "    Dense(2, activation=\"relu\", name=\"layer1\"),\n",
    "    Dense(3, activation=\"relu\", name=\"layer2\"),\n",
    "    Dense(4, name=\"layer3\")\n",
    "])"
   ]
  },
  {
   "cell_type": "code",
   "execution_count": null,
   "metadata": {},
   "outputs": [],
   "source": [
    "model.summary()"
   ]
  },
  {
   "cell_type": "code",
   "execution_count": null,
   "metadata": {},
   "outputs": [],
   "source": [
    "model = keras.Sequential([\n",
    "    Dense(2, activation=\"relu\", name=\"layer1\", input_shape=(4,)),\n",
    "    Dense(3, activation=\"relu\", name=\"layer2\"),\n",
    "    Dense(4, name=\"layer3\")\n",
    "])"
   ]
  },
  {
   "cell_type": "code",
   "execution_count": null,
   "metadata": {},
   "outputs": [],
   "source": [
    "model.summary()"
   ]
  },
  {
   "cell_type": "code",
   "execution_count": null,
   "metadata": {},
   "outputs": [],
   "source": [
    "model = keras.Sequential([\n",
    "    Dense(2, activation=\"relu\", name=\"layer1\"),\n",
    "    Dense(3, activation=\"relu\", name=\"layer2\"),\n",
    "    Dense(4, name=\"layer3\")\n",
    "])"
   ]
  },
  {
   "cell_type": "code",
   "execution_count": null,
   "metadata": {},
   "outputs": [],
   "source": [
    "model.build(input_shape=(1,4))"
   ]
  },
  {
   "cell_type": "code",
   "execution_count": null,
   "metadata": {
    "scrolled": true
   },
   "outputs": [],
   "source": [
    "model.summary()"
   ]
  },
  {
   "cell_type": "markdown",
   "metadata": {},
   "source": [
    "# add() + summary()를 이용한 일반적인 디버깅 워크 플로우"
   ]
  },
  {
   "cell_type": "code",
   "execution_count": null,
   "metadata": {},
   "outputs": [],
   "source": [
    "model = keras.Sequential()\n",
    "model.add(Input(shape=(250,250,3)))\n",
    "model.add(Conv2D(filters=32, kernel_size=5, strides=2, activation=\"relu\", name=\"Conv1\"))\n",
    "model.add(Conv2D(filters=32, kernel_size=3, strides=1, activation=\"relu\", name=\"Conv2\"))\n",
    "model.add(MaxPooling2D(3))\n",
    "\n",
    "model.summary()\n",
    "\n",
    "model.add(Conv2D(filters=32, kernel_size=3, strides=1, activation=\"relu\", name=\"Conv3\"))\n",
    "model.add(Conv2D(filters=32, kernel_size=3, strides=1, activation=\"relu\", name=\"Conv4\"))\n",
    "model.add(MaxPooling2D(3))\n",
    "model.add(Conv2D(filters=32, kernel_size=3, strides=1, activation=\"relu\", name=\"Conv5\"))\n",
    "model.add(Conv2D(filters=32, kernel_size=3, strides=1, activation=\"relu\", name=\"Conv6\"))\n",
    "model.add(MaxPooling2D(1))\n",
    "\n",
    "model.summary()\n",
    "\n",
    "model.add(GlobalMaxPooling2D())\n",
    "model.add(Dense(10))"
   ]
  }
 ],
 "metadata": {
  "kernelspec": {
   "display_name": "Python 3",
   "language": "python",
   "name": "python3"
  },
  "language_info": {
   "codemirror_mode": {
    "name": "ipython",
    "version": 3
   },
   "file_extension": ".py",
   "mimetype": "text/x-python",
   "name": "python",
   "nbconvert_exporter": "python",
   "pygments_lexer": "ipython3",
   "version": "3.6.12"
  }
 },
 "nbformat": 4,
 "nbformat_minor": 4
}
